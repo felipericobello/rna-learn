{
 "cells": [
  {
   "cell_type": "code",
   "execution_count": 65,
   "metadata": {},
   "outputs": [],
   "source": [
    "import numpy as np\n",
    "import matplotlib.pyplot as plt\n",
    "\n",
    "entradas = np.array([[0,0], [0,1], [1,0], [1,1]])\n",
    "saidas = np.array([[1], [0], [0], [1]])\n",
    "\n",
    "entradas = entradas.T\n",
    "saidas = saidas.T\n",
    "\n",
    "epoch = 2000\n",
    "tda = 0.2\n",
    "\n",
    "bj = [[0.5], [0.5], [0.5]]\n",
    "bk = 0.5\n",
    "\n",
    "np.random.seed(7)\n",
    "wij = np.random.normal(0.0, pow(3, -0.5), (2,3))\n",
    "wjk = np.random.normal(0.0, pow(3, -0.5), (3,1))\n",
    "\n",
    "sig = lambda z: 1 / (1+np.exp(-z))\n",
    "funAux = lambda x: x*(1-x)"
   ]
  },
  {
   "cell_type": "code",
   "execution_count": 66,
   "metadata": {},
   "outputs": [
    {
     "name": "stdout",
     "output_type": "stream",
     "text": [
      "Resultados apresentados pela RNA da Função de Equivalência: [[0.90693583 0.07943995 0.07941895 0.9159895 ]]\n",
      "Resultados esperados: [[1 0 0 1]]\n",
      "\n",
      "Pesos sinápticos finais em wIH:\n",
      " [[10.83342876  0.20433596  4.77301535]\n",
      " [10.83401568 -0.9040372   4.77258202]]\n",
      "\n",
      "Pesos sinápticos finais em wOH:\n",
      " [[-5.34787277]\n",
      " [-0.92059127]\n",
      " [ 5.98924521]]\n",
      "\n",
      "Bias camada j:\n",
      " [[-7.21088928]\n",
      " [-7.21088928]\n",
      " [-7.21088928]]\n",
      "\n",
      "Bias camada k: 2.277529663779707\n"
     ]
    }
   ],
   "source": [
    "itr = []\n",
    "margem_erro = []\n",
    "\n",
    "for i in range(epoch):\n",
    "    saidas_i = entradas\n",
    "    target = saidas\n",
    "\n",
    "    entradas_j = np.dot(wij.T, saidas_i) + bj\n",
    "    saidas_j = sig(entradas_j)\n",
    "\n",
    "    entradas_k = np.dot(wjk.T, saidas_j) + bk\n",
    "    saida_rna = sig(entradas_k)\n",
    "\n",
    "    erroRNA = target - saida_rna\n",
    "    mediaAbsoluta = np.mean(np.abs(erroRNA))\n",
    "\n",
    "    erroCamadaj = np.dot(wjk,erroRNA)\n",
    "\n",
    "    deltaCamadak = funAux(saida_rna)\n",
    "    deltaCamadak = erroRNA * deltaCamadak\n",
    "    gradE_Wjk = (-1) * np.dot(deltaCamadak,saidas_j.T)\n",
    "    Delta_Wjk = (-1) * tda * gradE_Wjk\n",
    "    wjk = wjk + Delta_Wjk.T\n",
    "    bk = bk + tda * np.sum(deltaCamadak)\n",
    "\n",
    "    deltaCamadaj = funAux(saidas_j)\n",
    "    deltaCamadaj = erroCamadaj * deltaCamadaj\n",
    "    gradE_Wij = (-1) * np.dot(deltaCamadaj,saidas_i.T)\n",
    "    Delta_Wij = (-1) * tda * gradE_Wij\n",
    "    wij = wij + Delta_Wij.T\n",
    "    bj = bj + tda * np.sum(deltaCamadaj)\n",
    "\n",
    "    itr.append(i)\n",
    "    margem_erro.append(mediaAbsoluta)  \n",
    "\n",
    "\n",
    "print(\"Resultados apresentados pela RNA da Função de Equivalência:\", saida_rna)\n",
    "print(\"Resultados esperados:\", target)\n",
    "\n",
    "print(\"\\nPesos sinápticos finais em wIH:\\n\", wij)\n",
    "print(\"\\nPesos sinápticos finais em wOH:\\n\", wjk)\n",
    "print(\"\\nBias camada j:\\n\", bj)\n",
    "print(\"\\nBias camada k:\", bk)\n",
    "\n",
    "\n"
   ]
  },
  {
   "cell_type": "code",
   "execution_count": 67,
   "metadata": {},
   "outputs": [
    {
     "data": {
      "image/png": "[encoded data removed]",
      "text/plain": [
       "<Figure size 432x288 with 1 Axes>"
      ]
     },
     "metadata": {
      "needs_background": "light"
     },
     "output_type": "display_data"
    }
   ],
   "source": [
    "plt.plot(itr, margem_erro, color='red', marker='o',linestyle='dashed',linewidth=2, markersize=3)\n",
    "plt.show()"
   ]
  }
 ],
 "metadata": {
  "interpreter": {
   "hash": "bff1df194e99b3a64a629bca9ba64eba56ff1387f0d6c02488f289a25eb43860"
  },
  "kernelspec": {
   "display_name": "Python 3.7.10 64-bit ('base': conda)",
   "language": "python",
   "name": "python3"
  },
  "language_info": {
   "codemirror_mode": {
    "name": "ipython",
    "version": 3
   },
   "file_extension": ".py",
   "mimetype": "text/x-python",
   "name": "python",
   "nbconvert_exporter": "python",
   "pygments_lexer": "ipython3",
   "version": "3.7.10"
  },
  "orig_nbformat": 4
 },
 "nbformat": 4,
 "nbformat_minor": 2
}
