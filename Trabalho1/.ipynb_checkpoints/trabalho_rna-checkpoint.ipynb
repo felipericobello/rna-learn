{
 "cells": [
  {
   "cell_type": "markdown",
   "metadata": {},
   "source": [
    "# Setup"
   ]
  },
  {
   "cell_type": "code",
   "execution_count": 1,
   "metadata": {},
   "outputs": [],
   "source": [
    "import numpy as np\n",
    "import matplotlib.pyplot as plt\n",
    "\n",
    "sig = lambda z: 1/(1+np.exp(-z))\n",
    "aux = lambda x: x*(1-x)\n",
    "\n",
    "inputs = np.array([[0,0], [1,0], [0,1], [1,1]])\n",
    "inputs = inputs.T\n",
    "\n",
    "epoch = 2000\n",
    "tda = 0.2\n",
    "\n",
    "bj = [[0.5], [0.5], [0.5]]\n",
    "bk = 0.5\n",
    "\n",
    "targetFE = np.array([[1], [0], [0], [1]])\n",
    "targetFE = targetFE.T\n",
    "targetNAND = np.array([[1], [1], [1], [0]])\n",
    "targetNAND = targetNAND.T"
   ]
  },
  {
   "cell_type": "markdown",
   "metadata": {},
   "source": [
    "# Função de Equivalência sem Bias"
   ]
  },
  {
   "cell_type": "code",
   "execution_count": 2,
   "metadata": {},
   "outputs": [
    {
     "name": "stdout",
     "output_type": "stream",
     "text": [
      "Resultados apresentados pela RNA da Função de Equivalência: [[0.67451373 0.4305805  0.46672801 0.48595754]]\n",
      "Resultados esperados: [[1 0 0 1]]\n",
      "\n",
      "Pesos sinápticos finais em wIH:\n",
      " [[ 1.8566501   0.09776239 -3.5232578 ]\n",
      " [-0.61825163 -1.06345684 -3.55274631]]\n",
      "\n",
      "Pesos sinápticos finais em wOH:\n",
      " [[ 0.39250503]\n",
      " [-1.31301655]\n",
      " [ 2.3816105 ]]\n"
     ]
    },
    {
     "data": {
      "image/png": "[encoded data removed]",
      "text/plain": [
       "<Figure size 432x288 with 1 Axes>"
      ]
     },
     "metadata": {
      "needs_background": "light"
     },
     "output_type": "display_data"
    }
   ],
   "source": [
    "\n",
    "margem_erroFE = []\n",
    "itrFE = []\n",
    "\n",
    "np.random.seed(7)\n",
    "wij = np.random.normal(0.0, pow(3, -0.5), (2,3))\n",
    "wjk = np.random.normal(0.0, pow(3, -0.5), (3,1))\n",
    "\n",
    "for i in range(epoch):\n",
    "    saidas_i = inputs\n",
    "\n",
    "    entradas_j = np.dot(wij.T, saidas_i)\n",
    "    saidas_j = sig(entradas_j)\n",
    "\n",
    "    entradas_k = np.dot(wjk.T, saidas_j)\n",
    "    saida_FE = sig(entradas_k)\n",
    "\n",
    "    erroRNA = targetFE - saida_FE\n",
    "    mediaAbsoluta = np.mean(np.abs(erroRNA))\n",
    "    erroCamadaj = np.dot(wjk,erroRNA)\n",
    "\n",
    "    deltaCamadak = aux(saida_FE)\n",
    "    deltaCamadak = erroRNA * deltaCamadak\n",
    "    gradE_Wjk = np.dot(deltaCamadak,saidas_j.T)\n",
    "    Delta_Wjk = tda * gradE_Wjk\n",
    "    wjk = wjk + Delta_Wjk.T\n",
    "\n",
    "    deltaCamadaj = aux(saidas_j)\n",
    "    deltaCamadaj = erroCamadaj * deltaCamadaj\n",
    "    gradE_Wij = np.dot(deltaCamadaj,saidas_i.T)\n",
    "    Delta_Wij = tda * gradE_Wij\n",
    "    wij = wij + Delta_Wij.T\n",
    "\n",
    "    itrFE.append(i)\n",
    "    margem_erroFE.append(mediaAbsoluta)\n",
    "\n",
    "print(\"Resultados apresentados pela RNA da Função de Equivalência:\", saida_FE)\n",
    "print(\"Resultados esperados:\", targetFE)\n",
    "\n",
    "print(\"\\nPesos sinápticos finais em wIH:\\n\", wij)\n",
    "print(\"\\nPesos sinápticos finais em wOH:\\n\", wjk)\n",
    "\n",
    "\n",
    "plt.plot(itrFE, margem_erroFE, color='red', marker='o',linestyle='dashed',linewidth=2, markersize=3)\n",
    "plt.title(\"Função Equivaência sem Bias\")\n",
    "plt.show()"
   ]
  },
  {
   "cell_type": "markdown",
   "metadata": {},
   "source": [
    "# Função NAND sem Bias"
   ]
  },
  {
   "cell_type": "code",
   "execution_count": 3,
   "metadata": {},
   "outputs": [
    {
     "name": "stdout",
     "output_type": "stream",
     "text": [
      "Resultados apresentados pela RNA da Função de NAND: [[0.97240014 0.97075334 0.94099179 0.07763613]]\n",
      "Resultados esperados: [[1 1 1 0]]\n",
      "\n",
      "Pesos sinápticos finais em wIH:\n",
      " [[ 3.11824695 -1.30889155 -8.13614915]\n",
      " [-7.59764248  4.3156212   3.7104222 ]]\n",
      "\n",
      "Pesos sinápticos finais em wOH:\n",
      " [[ 4.25951019]\n",
      " [-2.7171281 ]\n",
      " [ 5.5821492 ]]\n"
     ]
    },
    {
     "data": {
      "image/png": "[encoded data removed]",
      "text/plain": [
       "<Figure size 432x288 with 1 Axes>"
      ]
     },
     "metadata": {
      "needs_background": "light"
     },
     "output_type": "display_data"
    }
   ],
   "source": [
    "margem_erroNAND = []\n",
    "itrNAND = []\n",
    "\n",
    "#Reset dos pesos em relação às funções passadas\n",
    "np.random.seed(7)\n",
    "wij = np.random.normal(0.0, pow(3, -0.5), (2,3))\n",
    "wjk = np.random.normal(0.0, pow(3, -0.5), (3,1))\n",
    "\n",
    "for i in range(epoch):\n",
    "    saidas_i = inputs\n",
    "\n",
    "    entradas_j = np.dot(wij.T, saidas_i)\n",
    "    saidas_j = sig(entradas_j)\n",
    "\n",
    "    entradas_k = np.dot(wjk.T, saidas_j)\n",
    "    saida_NAND = sig(entradas_k)\n",
    "\n",
    "    erroRNA = targetNAND - saida_NAND\n",
    "    mediaAbsoluta = np.mean(np.abs(erroRNA))\n",
    "\n",
    "    erroCamadaj = np.dot(wjk,erroRNA)\n",
    "\n",
    "    deltaCamadak = aux(saida_NAND)\n",
    "    deltaCamadak = erroRNA * deltaCamadak\n",
    "    gradE_Wjk = (-1) * np.dot(deltaCamadak,saidas_j.T)\n",
    "    Delta_Wjk = (-1) * tda * gradE_Wjk\n",
    "    wjk = wjk + Delta_Wjk.T\n",
    "\n",
    "    deltaCamadaj = aux(saidas_j)\n",
    "    deltaCamadaj = erroCamadaj * deltaCamadaj\n",
    "    gradE_Wij = (-1) * np.dot(deltaCamadaj,saidas_i.T)\n",
    "    Delta_Wij = (-1) * tda * gradE_Wij\n",
    "    wij = wij + Delta_Wij.T\n",
    "\n",
    "    itrNAND.append(i)\n",
    "    margem_erroNAND.append(mediaAbsoluta)\n",
    "\n",
    "print(\"Resultados apresentados pela RNA da Função de NAND:\", saida_NAND)\n",
    "print(\"Resultados esperados:\", targetNAND)\n",
    "\n",
    "print(\"\\nPesos sinápticos finais em wIH:\\n\", wij)\n",
    "print(\"\\nPesos sinápticos finais em wOH:\\n\", wjk)\n",
    "\n",
    "plt.plot(itrNAND, margem_erroNAND, color='green', marker='o',linestyle='dashed',linewidth=2, markersize=3)\n",
    "plt.title(\"Função NAND sem Bias\")\n",
    "plt.show()"
   ]
  },
  {
   "cell_type": "markdown",
   "metadata": {},
   "source": [
    "# Função Equivalência com Bias"
   ]
  },
  {
   "cell_type": "code",
   "execution_count": 4,
   "metadata": {},
   "outputs": [
    {
     "name": "stdout",
     "output_type": "stream",
     "text": [
      "Resultados apresentados pela RNA da Função de Equivalência: [[0.90693583 0.07941895 0.07943995 0.9159895 ]]\n",
      "Resultados esperados: [[1 0 0 1]]\n",
      "\n",
      "Pesos sinápticos finais em wIH:\n",
      " [[10.83342876  0.20433596  4.77301535]\n",
      " [10.83401568 -0.9040372   4.77258202]]\n",
      "\n",
      "Pesos sinápticos finais em wOH:\n",
      " [[-5.34787277]\n",
      " [-0.92059127]\n",
      " [ 5.98924521]]\n",
      "\n",
      "Bias camada j:\n",
      " [[-7.21088928]\n",
      " [-7.21088928]\n",
      " [-7.21088928]]\n",
      "\n",
      "Bias camada k: 2.277529663779708\n"
     ]
    },
    {
     "data": {
      "image/png": "[encoded data removed]",
      "text/plain": [
       "<Figure size 432x288 with 1 Axes>"
      ]
     },
     "metadata": {
      "needs_background": "light"
     },
     "output_type": "display_data"
    }
   ],
   "source": [
    "margem_erroFEb = []\n",
    "itrFEb = []\n",
    "\n",
    "#Reset dos pesos em relação às funções passadas\n",
    "np.random.seed(7)\n",
    "wij = np.random.normal(0.0, pow(3, -0.5), (2,3))\n",
    "wjk = np.random.normal(0.0, pow(3, -0.5), (3,1))\n",
    "\n",
    "bj = [[0.5], [0.5], [0.5]]\n",
    "bk = 0.5\n",
    "\n",
    "for i in range(epoch):\n",
    "    saidas_i = inputs\n",
    "\n",
    "    entradas_j = np.dot(wij.T, saidas_i) + bj\n",
    "    saidas_j = sig(entradas_j)\n",
    "\n",
    "    entradas_k = np.dot(wjk.T, saidas_j) + bk\n",
    "    saida_FE = sig(entradas_k)\n",
    "\n",
    "    erroRNA = targetFE - saida_FE\n",
    "    mediaAbsoluta = np.mean(np.abs(erroRNA))\n",
    "\n",
    "    erroCamadaj = np.dot(wjk,erroRNA)\n",
    "\n",
    "    deltaCamadak = aux(saida_FE)\n",
    "    deltaCamadak = erroRNA * deltaCamadak\n",
    "    gradE_Wjk = np.dot(deltaCamadak,saidas_j.T)\n",
    "    Delta_Wjk = tda * gradE_Wjk\n",
    "    wjk = wjk + Delta_Wjk.T\n",
    "    bk = bk + tda * np.sum(deltaCamadak)\n",
    "\n",
    "    deltaCamadaj = aux(saidas_j)\n",
    "    deltaCamadaj = erroCamadaj * deltaCamadaj\n",
    "    gradE_Wij = (-1) * np.dot(deltaCamadaj,saidas_i.T)\n",
    "    Delta_Wij = (-1) * tda * gradE_Wij\n",
    "    wij = wij + Delta_Wij.T\n",
    "    bj = bj + tda * np.sum(deltaCamadaj)\n",
    "\n",
    "    itrFEb.append(i)\n",
    "    margem_erroFEb.append(mediaAbsoluta)\n",
    "\n",
    "print(\"Resultados apresentados pela RNA da Função de Equivalência:\", saida_FE)\n",
    "print(\"Resultados esperados:\", targetFE)\n",
    "\n",
    "print(\"\\nPesos sinápticos finais em wIH:\\n\", wij)\n",
    "print(\"\\nPesos sinápticos finais em wOH:\\n\", wjk)\n",
    "print(\"\\nBias camada j:\\n\", bj)\n",
    "print(\"\\nBias camada k:\", bk)\n",
    "\n",
    "\n",
    "plt.plot(itrFEb, margem_erroFEb, color='k', marker='o',linestyle='dashed',linewidth=2, markersize=3)\n",
    "plt.title(\"Função Equivaência com Bias\")\n",
    "plt.show()"
   ]
  },
  {
   "cell_type": "markdown",
   "metadata": {},
   "source": [
    "# Função NAND com Bias"
   ]
  },
  {
   "cell_type": "code",
   "execution_count": 5,
   "metadata": {},
   "outputs": [
    {
     "name": "stdout",
     "output_type": "stream",
     "text": [
      "Resultados apresentados pela RNA da Função de NAND: [[0.97335725 0.96539003 0.96539115 0.06085816]]\n",
      "Resultados esperados: [[1 1 1 0]]\n",
      "\n",
      "Pesos sinápticos finais em wIH:\n",
      " [[ 0.95589921  0.85963127 -6.53787842]\n",
      " [ 0.17338748  0.4819101  -6.53796058]]\n",
      "\n",
      "Pesos sinápticos finais em wOH:\n",
      " [[-1.10067811]\n",
      " [-1.92131285]\n",
      " [ 6.54873631]]\n"
     ]
    },
    {
     "data": {
      "image/png": "[encoded data removed]",
      "text/plain": [
       "<Figure size 432x288 with 1 Axes>"
      ]
     },
     "metadata": {
      "needs_background": "light"
     },
     "output_type": "display_data"
    }
   ],
   "source": [
    "margem_erroNANDb = []\n",
    "itrNANDb = []\n",
    "\n",
    "#Reset dos pesos em relação às funções passadas\n",
    "np.random.seed(7)\n",
    "wij = np.random.normal(0.0, pow(3, -0.5), (2,3))\n",
    "wjk = np.random.normal(0.0, pow(3, -0.5), (3,1))\n",
    "\n",
    "#Reset bias relação às funções passadas\n",
    "bj = [[0.5], [0.5], [0.5]]\n",
    "bk = 0.5\n",
    "\n",
    "for i in range(epoch):\n",
    "    saidas_i = inputs\n",
    "\n",
    "    entradas_j = np.dot(wij.T, saidas_i) + bj\n",
    "    saidas_j = sig(entradas_j)\n",
    "\n",
    "    entradas_k = np.dot(wjk.T, saidas_j) + bk\n",
    "    saida_NAND = sig(entradas_k)\n",
    "\n",
    "    erroRNA = targetNAND - saida_NAND\n",
    "    mediaAbsoluta = np.mean(np.abs(erroRNA))\n",
    "\n",
    "    erroCamadaj = np.dot(wjk,erroRNA)\n",
    "\n",
    "    deltaCamadak = aux(saida_NAND)\n",
    "    deltaCamadak = erroRNA * deltaCamadak\n",
    "    gradE_Wjk = (-1) * np.dot(deltaCamadak,saidas_j.T)\n",
    "    Delta_Wjk = (-1) * tda * gradE_Wjk\n",
    "    wjk = wjk + Delta_Wjk.T\n",
    "    bk = bk + tda * np.sum(deltaCamadak)\n",
    "\n",
    "    deltaCamadaj = aux(saidas_j)\n",
    "    deltaCamadaj = erroCamadaj * deltaCamadaj\n",
    "    gradE_Wij = (-1) * np.dot(deltaCamadaj,saidas_i.T)\n",
    "    Delta_Wij = (-1) * tda * gradE_Wij\n",
    "    wij = wij + Delta_Wij.T\n",
    "    bj = bj + tda * np.sum(deltaCamadaj)\n",
    "\n",
    "    itrNANDb.append(i)\n",
    "    margem_erroNANDb.append(mediaAbsoluta)\n",
    "\n",
    "print(\"Resultados apresentados pela RNA da Função de NAND:\", saida_NAND)\n",
    "print(\"Resultados esperados:\", targetNAND)\n",
    "\n",
    "print(\"\\nPesos sinápticos finais em wIH:\\n\", wij)\n",
    "print(\"\\nPesos sinápticos finais em wOH:\\n\", wjk)\n",
    "\n",
    "plt.plot(itrNANDb, margem_erroNANDb, color='blue', marker='o',linestyle='dashed',linewidth=2, markersize=3)\n",
    "plt.title(\"Função NAND com Bias\")\n",
    "plt.show()"
   ]
  },
  {
   "cell_type": "markdown",
   "metadata": {},
   "source": [
    "# Gráfico Geral\n"
   ]
  },
  {
   "cell_type": "code",
   "execution_count": 6,
   "metadata": {},
   "outputs": [
    {
     "data": {
      "image/png": "[encoded data removed]",
      "text/plain": [
       "<Figure size 432x288 with 1 Axes>"
      ]
     },
     "metadata": {
      "needs_background": "light"
     },
     "output_type": "display_data"
    }
   ],
   "source": [
    "plt.xlabel('Epoch')\n",
    "plt.ylabel(\"Absolute Mean Error\")\n",
    "\n",
    "plt.plot(itrFE, margem_erroFE, 'r-', label='FE')\n",
    "plt.plot(itrNAND, margem_erroNAND, 'g-', label='NAND')\n",
    "plt.plot(itrFEb, margem_erroFEb, 'k-', label='FEb')\n",
    "plt.plot(itrNANDb, margem_erroNANDb, 'b-',label='NANDb')\n",
    "\n",
    "plt.legend(loc=\"upper right\")\n",
    "plt.title('Funções')\n",
    "plt.show()\n"
   ]
  }
 ],
 "metadata": {
  "interpreter": {
   "hash": "bff1df194e99b3a64a629bca9ba64eba56ff1387f0d6c02488f289a25eb43860"
  },
  "kernelspec": {
   "display_name": "Python 3 (ipykernel)",
   "language": "python",
   "name": "python3"
  },
  "language_info": {
   "codemirror_mode": {
    "name": "ipython",
    "version": 3
   },
   "file_extension": ".py",
   "mimetype": "text/x-python",
   "name": "python",
   "nbconvert_exporter": "python",
   "pygments_lexer": "ipython3",
   "version": "3.7.10"
  }
 },
 "nbformat": 4,
 "nbformat_minor": 2
}
