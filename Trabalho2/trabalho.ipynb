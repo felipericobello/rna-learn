{
 "cells": [
  {
   "cell_type": "markdown",
   "metadata": {},
   "source": [
    "# Import"
   ]
  },
  {
   "cell_type": "code",
   "execution_count": 1,
   "metadata": {
    "scrolled": true
   },
   "outputs": [
    {
     "name": "stdout",
     "output_type": "stream",
     "text": [
      "Python version: 3.7.11 (default, Jul 27 2021, 09:42:29) [MSC v.1916 64 bit (AMD64)]\n",
      "Tensor Flow Version: 2.0.0\n",
      "Tensorflow Keras Version: 2.2.4-tf\n",
      "Keras Version: 2.3.1\n"
     ]
    },
    {
     "name": "stderr",
     "output_type": "stream",
     "text": [
      "Using TensorFlow backend.\n"
     ]
    }
   ],
   "source": [
    "import sys\n",
    "import pandas as pd\n",
    "import matplotlib as mpl\n",
    "import matplotlib.pyplot as plt\n",
    "import numpy as np\n",
    "import tensorflow\n",
    "import keras\n",
    "import tensorflow.keras\n",
    "from tensorflow.keras.models import Sequential\n",
    "from tensorflow.keras.layers import Dense\n",
    "\n",
    "print(f\"Python version: {sys.version}\")\n",
    "print(f\"Tensor Flow Version: {tensorflow.__version__}\")\n",
    "print(f\"Tensorflow Keras Version: {tensorflow.keras.__version__}\")\n",
    "print(f\"Keras Version: {keras.__version__}\")"
   ]
  },
  {
   "cell_type": "markdown",
   "metadata": {},
   "source": [
    "# Data Import"
   ]
  },
  {
   "cell_type": "code",
   "execution_count": 2,
   "metadata": {
    "scrolled": false
   },
   "outputs": [
    {
     "data": {
      "text/html": [
       "<div>\n",
       "<style scoped>\n",
       "    .dataframe tbody tr th:only-of-type {\n",
       "        vertical-align: middle;\n",
       "    }\n",
       "\n",
       "    .dataframe tbody tr th {\n",
       "        vertical-align: top;\n",
       "    }\n",
       "\n",
       "    .dataframe thead th {\n",
       "        text-align: right;\n",
       "    }\n",
       "</style>\n",
       "<table border=\"1\" class=\"dataframe\">\n",
       "  <thead>\n",
       "    <tr style=\"text-align: right;\">\n",
       "      <th></th>\n",
       "      <th>CRIM</th>\n",
       "      <th>ZN</th>\n",
       "      <th>INDUS</th>\n",
       "      <th>CHAS</th>\n",
       "      <th>NOX</th>\n",
       "      <th>RM</th>\n",
       "      <th>AGE</th>\n",
       "      <th>DIS</th>\n",
       "      <th>RAD</th>\n",
       "      <th>TAX</th>\n",
       "      <th>PTRATIO</th>\n",
       "      <th>B</th>\n",
       "      <th>LSTAT</th>\n",
       "    </tr>\n",
       "  </thead>\n",
       "  <tbody>\n",
       "    <tr>\n",
       "      <th>count</th>\n",
       "      <td>404.000000</td>\n",
       "      <td>404.000000</td>\n",
       "      <td>404.000000</td>\n",
       "      <td>404.000000</td>\n",
       "      <td>404.000000</td>\n",
       "      <td>404.000000</td>\n",
       "      <td>404.000000</td>\n",
       "      <td>404.000000</td>\n",
       "      <td>404.000000</td>\n",
       "      <td>404.00000</td>\n",
       "      <td>404.000000</td>\n",
       "      <td>404.000000</td>\n",
       "      <td>404.000000</td>\n",
       "    </tr>\n",
       "    <tr>\n",
       "      <th>mean</th>\n",
       "      <td>3.595577</td>\n",
       "      <td>11.591584</td>\n",
       "      <td>11.035322</td>\n",
       "      <td>0.069307</td>\n",
       "      <td>0.554059</td>\n",
       "      <td>6.310631</td>\n",
       "      <td>68.482426</td>\n",
       "      <td>3.779059</td>\n",
       "      <td>9.623762</td>\n",
       "      <td>409.25495</td>\n",
       "      <td>18.496782</td>\n",
       "      <td>354.071931</td>\n",
       "      <td>12.448812</td>\n",
       "    </tr>\n",
       "    <tr>\n",
       "      <th>std</th>\n",
       "      <td>8.524506</td>\n",
       "      <td>23.676616</td>\n",
       "      <td>6.813216</td>\n",
       "      <td>0.254290</td>\n",
       "      <td>0.114267</td>\n",
       "      <td>0.698453</td>\n",
       "      <td>28.114483</td>\n",
       "      <td>2.094428</td>\n",
       "      <td>8.761354</td>\n",
       "      <td>168.28937</td>\n",
       "      <td>2.135036</td>\n",
       "      <td>95.241643</td>\n",
       "      <td>7.123851</td>\n",
       "    </tr>\n",
       "    <tr>\n",
       "      <th>min</th>\n",
       "      <td>0.006320</td>\n",
       "      <td>0.000000</td>\n",
       "      <td>0.740000</td>\n",
       "      <td>0.000000</td>\n",
       "      <td>0.385000</td>\n",
       "      <td>3.561000</td>\n",
       "      <td>2.900000</td>\n",
       "      <td>1.129600</td>\n",
       "      <td>1.000000</td>\n",
       "      <td>187.00000</td>\n",
       "      <td>12.600000</td>\n",
       "      <td>0.320000</td>\n",
       "      <td>1.730000</td>\n",
       "    </tr>\n",
       "    <tr>\n",
       "      <th>25%</th>\n",
       "      <td>0.081348</td>\n",
       "      <td>0.000000</td>\n",
       "      <td>5.130000</td>\n",
       "      <td>0.000000</td>\n",
       "      <td>0.453000</td>\n",
       "      <td>5.897500</td>\n",
       "      <td>43.250000</td>\n",
       "      <td>2.106075</td>\n",
       "      <td>4.000000</td>\n",
       "      <td>279.00000</td>\n",
       "      <td>17.400000</td>\n",
       "      <td>374.052500</td>\n",
       "      <td>6.745000</td>\n",
       "    </tr>\n",
       "    <tr>\n",
       "      <th>50%</th>\n",
       "      <td>0.250895</td>\n",
       "      <td>0.000000</td>\n",
       "      <td>8.560000</td>\n",
       "      <td>0.000000</td>\n",
       "      <td>0.535000</td>\n",
       "      <td>6.243500</td>\n",
       "      <td>76.950000</td>\n",
       "      <td>3.167500</td>\n",
       "      <td>5.000000</td>\n",
       "      <td>334.00000</td>\n",
       "      <td>19.100000</td>\n",
       "      <td>391.190000</td>\n",
       "      <td>10.805000</td>\n",
       "    </tr>\n",
       "    <tr>\n",
       "      <th>75%</th>\n",
       "      <td>3.681942</td>\n",
       "      <td>12.500000</td>\n",
       "      <td>18.100000</td>\n",
       "      <td>0.000000</td>\n",
       "      <td>0.624000</td>\n",
       "      <td>6.630250</td>\n",
       "      <td>94.100000</td>\n",
       "      <td>5.116700</td>\n",
       "      <td>24.000000</td>\n",
       "      <td>666.00000</td>\n",
       "      <td>20.200000</td>\n",
       "      <td>395.962500</td>\n",
       "      <td>16.672500</td>\n",
       "    </tr>\n",
       "    <tr>\n",
       "      <th>max</th>\n",
       "      <td>88.976200</td>\n",
       "      <td>100.000000</td>\n",
       "      <td>27.740000</td>\n",
       "      <td>1.000000</td>\n",
       "      <td>0.871000</td>\n",
       "      <td>8.780000</td>\n",
       "      <td>100.000000</td>\n",
       "      <td>12.126500</td>\n",
       "      <td>24.000000</td>\n",
       "      <td>711.00000</td>\n",
       "      <td>22.000000</td>\n",
       "      <td>396.900000</td>\n",
       "      <td>37.970000</td>\n",
       "    </tr>\n",
       "  </tbody>\n",
       "</table>\n",
       "</div>"
      ],
      "text/plain": [
       "             CRIM          ZN       INDUS        CHAS         NOX          RM  \\\n",
       "count  404.000000  404.000000  404.000000  404.000000  404.000000  404.000000   \n",
       "mean     3.595577   11.591584   11.035322    0.069307    0.554059    6.310631   \n",
       "std      8.524506   23.676616    6.813216    0.254290    0.114267    0.698453   \n",
       "min      0.006320    0.000000    0.740000    0.000000    0.385000    3.561000   \n",
       "25%      0.081348    0.000000    5.130000    0.000000    0.453000    5.897500   \n",
       "50%      0.250895    0.000000    8.560000    0.000000    0.535000    6.243500   \n",
       "75%      3.681942   12.500000   18.100000    0.000000    0.624000    6.630250   \n",
       "max     88.976200  100.000000   27.740000    1.000000    0.871000    8.780000   \n",
       "\n",
       "              AGE         DIS         RAD        TAX     PTRATIO           B  \\\n",
       "count  404.000000  404.000000  404.000000  404.00000  404.000000  404.000000   \n",
       "mean    68.482426    3.779059    9.623762  409.25495   18.496782  354.071931   \n",
       "std     28.114483    2.094428    8.761354  168.28937    2.135036   95.241643   \n",
       "min      2.900000    1.129600    1.000000  187.00000   12.600000    0.320000   \n",
       "25%     43.250000    2.106075    4.000000  279.00000   17.400000  374.052500   \n",
       "50%     76.950000    3.167500    5.000000  334.00000   19.100000  391.190000   \n",
       "75%     94.100000    5.116700   24.000000  666.00000   20.200000  395.962500   \n",
       "max    100.000000   12.126500   24.000000  711.00000   22.000000  396.900000   \n",
       "\n",
       "            LSTAT  \n",
       "count  404.000000  \n",
       "mean    12.448812  \n",
       "std      7.123851  \n",
       "min      1.730000  \n",
       "25%      6.745000  \n",
       "50%     10.805000  \n",
       "75%     16.672500  \n",
       "max     37.970000  "
      ]
     },
     "execution_count": 2,
     "metadata": {},
     "output_type": "execute_result"
    }
   ],
   "source": [
    "np.random.seed(1)\n",
    "tensorflow.random.set_seed(1)\n",
    "\n",
    "dataset = tensorflow.keras.datasets.boston_housing\n",
    "(train_data, train_labels), (test_data, test_labels) = dataset.load_data(seed=1)\n",
    "\n",
    "atrib = ['CRIM', 'ZN', 'INDUS', 'CHAS', 'NOX', 'RM', 'AGE', 'DIS', 'RAD', 'TAX', 'PTRATIO', 'B', 'LSTAT']\n",
    "dataframe = pd.DataFrame(train_data, columns=atrib)\n",
    "\n",
    "mean = train_data.mean(axis=0)\n",
    "std  = train_data.std(axis=0)\n",
    "\n",
    "train_data = (train_data - mean) / std\n",
    "test_data  = (test_data  - mean) / std\n",
    "\n",
    "dataframe.describe()"
   ]
  },
  {
   "cell_type": "markdown",
   "metadata": {},
   "source": [
    "# Funções"
   ]
  },
  {
   "cell_type": "code",
   "execution_count": 3,
   "metadata": {},
   "outputs": [],
   "source": [
    "\n",
    "def build_model(inodes):\n",
    "    model = Sequential([Dense(32, activation=tensorflow.nn.relu, input_shape=(inodes,)), Dense(32, activation=tensorflow.nn.relu), Dense(1)])\n",
    "    optimizer = tensorflow.keras.optimizers.RMSprop(learning_rate=0.002)\n",
    "    model.compile(loss='mse', optimizer=optimizer, metrics=['mae'])\n",
    "    return model\n",
    "\n",
    "def plot_history(history):\n",
    "    plt.figure()\n",
    "    plt.xlabel('Epoch')\n",
    "    plt.ylabel('Mean Absolute Error [$1000]')\n",
    "\n",
    "    plt.plot(history.epoch, np.array(history.history['mae']), 'b-', label='Mean Absolute Error',)\n",
    "    plt.plot(history.epoch, np.array(history.history['val_mae']), 'r-' , label='Validation MAE')\n",
    "\n",
    "    plt.legend()\n",
    "    plt.title('Erro médio absoluto da rede neural')\n",
    "    plt.ylim([0, 5])\n",
    "    plt.show()\n",
    "\n",
    "class PrintDot(keras.callbacks.Callback):\n",
    "    def on_epoch_end(self, epoch, logs):\n",
    "        if epoch % 100 == 0: print('') #'\\n'\n",
    "        print('.', end='')\n",
    "\n",
    "def plot_predictions(label, predictions):\n",
    "    plt.subplots(figsize=(5, 5))\n",
    "    plt.scatter(label, predictions)\n",
    "    plt.xlabel('True values [$1000]')\n",
    "    plt.ylabel('Predictions [$1000]')\n",
    "    plt.title('Comparação entre os valores originais e os escolhidos pela rede neural')\n",
    "    plt.axis('equal')\n",
    "    plt.show()"
   ]
  },
  {
   "cell_type": "markdown",
   "metadata": {},
   "source": [
    "# Parte 1"
   ]
  },
  {
   "cell_type": "markdown",
   "metadata": {},
   "source": [
    "## Neural Network"
   ]
  },
  {
   "cell_type": "markdown",
   "metadata": {},
   "source": [
    "### Treinamento"
   ]
  },
  {
   "cell_type": "code",
   "execution_count": 4,
   "metadata": {
    "scrolled": true
   },
   "outputs": [
    {
     "name": "stdout",
     "output_type": "stream",
     "text": [
      "Atributo: 1 \n",
      "\n",
      "....................................................................................................\n",
      "...................."
     ]
    },
    {
     "name": "stderr",
     "output_type": "stream",
     "text": [
      "Exception ignored in: <function IteratorResourceDeleter.__del__ at 0x000001E2BE704D38>\n",
      "Traceback (most recent call last):\n",
      "  File \"C:\\Users\\felip\\miniconda3\\envs\\tensorflow\\lib\\site-packages\\tensorflow_core\\python\\data\\ops\\iterator_ops.py\", line 537, in __del__\n",
      "    handle=self._handle, deleter=self._deleter)\n",
      "  File \"C:\\Users\\felip\\miniconda3\\envs\\tensorflow\\lib\\site-packages\\tensorflow_core\\python\\ops\\gen_dataset_ops.py\", line 1140, in delete_iterator\n",
      "    deleter)\n",
      "KeyboardInterrupt: \n"
     ]
    },
    {
     "name": "stdout",
     "output_type": "stream",
     "text": [
      "................................................................................\n",
      "....................................................................................................\n",
      "....................................................................................................\n",
      "....................................................................................................\n",
      "....................................................................................................\n",
      "\n",
      "Atributo: 2 \n",
      "\n",
      "..........................................................................................."
     ]
    }
   ],
   "source": [
    "# Treinamento da rede\n",
    "maelist = []\n",
    "for i in range(train_data.shape[1]):\n",
    "    print(f'Atributo: {i+1} ')\n",
    "    model = build_model(1)\n",
    "    model.fit(train_data[:, i].T, train_labels, epochs=600, batch_size=32, validation_split=0.2, verbose=0, callbacks=[PrintDot()])\n",
    "    #Utilização do métodno numpy.transpose(.T) para o correto uso dos dados\n",
    "    mae = model.evaluate(test_data[:, i].T, test_labels, verbose=0) \n",
    "\n",
    "    maelist.append(mae)\n",
    "\n",
    "    del model\n",
    "    keras.backend.clear_session() # IMPRESCINDÍVEL neste caso, pois faz a remoção dos MODELOS anteriores.\n",
    "\n",
    "    print('\\n')\n"
   ]
  },
  {
   "cell_type": "markdown",
   "metadata": {},
   "source": [
    "### Erro médio absoluto dos atributos"
   ]
  },
  {
   "cell_type": "code",
   "execution_count": null,
   "metadata": {
    "scrolled": true
   },
   "outputs": [
    {
     "name": "stdout",
     "output_type": "stream",
     "text": [
      "Atributo CRIM tem como erro médio absoluto: $ 6319.80.\n",
      "Atributo ZN tem como erro médio absoluto: $ 6111.69.\n",
      "Atributo INDUS tem como erro médio absoluto: $ 5318.15.\n",
      "Atributo CHAS tem como erro médio absoluto: $ 6963.30.\n",
      "Atributo NOX tem como erro médio absoluto: $ 5758.74.\n",
      "Atributo RM tem como erro médio absoluto: $ 3795.45.\n",
      "Atributo AGE tem como erro médio absoluto: $ 6217.83.\n",
      "Atributo DIS tem como erro médio absoluto: $ 6320.66.\n",
      "Atributo RAD tem como erro médio absoluto: $ 6523.87.\n",
      "Atributo TAX tem como erro médio absoluto: $ 6129.94.\n",
      "Atributo PTRATIO tem como erro médio absoluto: $ 5848.00.\n",
      "Atributo B tem como erro médio absoluto: $ 6800.69.\n",
      "Atributo LSTAT tem como erro médio absoluto: $ 3863.98.\n"
     ]
    }
   ],
   "source": [
    "atrib = np.asarray(atrib)\n",
    "for i in range(atrib.size):\n",
    "    print(f\"Atributo {atrib[i]} tem como erro médio absoluto: ${maelist[i][1] * 1000: .2f}.\")"
   ]
  },
  {
   "cell_type": "markdown",
   "metadata": {},
   "source": [
    "# Parte 2"
   ]
  },
  {
   "cell_type": "markdown",
   "metadata": {},
   "source": [
    "### BEST Data"
   ]
  },
  {
   "cell_type": "code",
   "execution_count": null,
   "metadata": {},
   "outputs": [
    {
     "name": "stdout",
     "output_type": "stream",
     "text": [
      "Rank 1: RM\n",
      "Rank 2: LSTAT\n",
      "Rank 3: INDUS\n",
      "Rank 4: NOX\n",
      "Rank 5: PTRATIO\n"
     ]
    }
   ],
   "source": [
    "maelist = np.array(maelist)\n",
    "BEST_index = np.argsort(maelist[:, 1])[:5] #Índice dos 5 menores EMA\n",
    "BEST_train = []\n",
    "BEST_test = []\n",
    "\n",
    "for i in range(5):\n",
    "    print(f\"Rank {i+1}: {atrib[BEST_index[i]]}\")\n",
    "\n",
    "    BEST_data = train_data[:, BEST_index[i]]\n",
    "    BEST_test_data = test_data[:, BEST_index[i]]\n",
    "\n",
    "    BEST_train.append(BEST_data)\n",
    "    BEST_test.append(BEST_test_data)\n",
    "\n",
    "BEST_train = np.array(BEST_train)\n",
    "BEST_train = BEST_train.T\n",
    "\n",
    "BEST_test = np.array(BEST_test)\n",
    "BEST_test = BEST_test.T"
   ]
  },
  {
   "cell_type": "markdown",
   "metadata": {},
   "source": [
    "### Neural Network"
   ]
  },
  {
   "cell_type": "code",
   "execution_count": null,
   "metadata": {},
   "outputs": [
    {
     "name": "stdout",
     "output_type": "stream",
     "text": [
      "\n",
      "....................................................................................................\n",
      "....................................................................................................\n",
      "....................................................................................................\n",
      "....................................................................................................\n",
      "....................................................................................................\n",
      "...................................................................................................."
     ]
    }
   ],
   "source": [
    "model_BEST = build_model(BEST_train.shape[1]) #Função de definição da rede\n",
    "BESThistory = model_BEST.fit(BEST_train, train_labels, epochs=600, batch_size=32, validation_split=0.2, verbose=0, callbacks=[PrintDot()]) #Treinamento"
   ]
  },
  {
   "cell_type": "code",
   "execution_count": null,
   "metadata": {},
   "outputs": [
    {
     "name": "stdout",
     "output_type": "stream",
     "text": [
      "O erro médio absoluto em relação aos preços originais da casa é: $2719.14\n"
     ]
    },
    {
     "data": {
      "image/png": "[encoded data removed]",
      "text/plain": [
       "<Figure size 432x288 with 1 Axes>"
      ]
     },
     "metadata": {
      "needs_background": "light"
     },
     "output_type": "display_data"
    },
    {
     "data": {
      "image/png": "[encoded data removed]",
      "text/plain": [
       "<Figure size 360x360 with 1 Axes>"
      ]
     },
     "metadata": {
      "needs_background": "light"
     },
     "output_type": "display_data"
    }
   ],
   "source": [
    "mae = model_BEST.evaluate(BEST_test, test_labels, verbose=0)[1]\n",
    "print(\"O erro médio absoluto em relação aos preços originais da casa é: ${:5.2f}\".format(mae * 1000))\n",
    "\n",
    "plot_history(BESThistory)\n",
    "\n",
    "predictions = model_BEST.predict(BEST_test).flatten()\n",
    "\n",
    "def plot_predictions(label, predictions):\n",
    "    plt.subplots(figsize=(5, 5))\n",
    "    plt.scatter(label, predictions)\n",
    "    plt.xlabel('True values [$1000]')\n",
    "    plt.ylabel('Predictions [$1000]')\n",
    "    plt.title('Comparação entre os valores originais e os escolhidos pela rede neural')\n",
    "    plt.axis('equal')\n",
    "    plt.show()\n",
    "\n",
    "plot_predictions(test_labels, predictions)\n",
    "keras.backend.clear_session()\n",
    "\n",
    "#Resultados melhores foram obtidos com a utilização do otimizador 'rmsprop' sem a especificação da taxa de aprendizado."
   ]
  },
  {
   "cell_type": "markdown",
   "metadata": {},
   "source": [
    "# Parte 3"
   ]
  },
  {
   "cell_type": "markdown",
   "metadata": {},
   "source": [
    "### RANDOM Data"
   ]
  },
  {
   "cell_type": "code",
   "execution_count": null,
   "metadata": {},
   "outputs": [
    {
     "data": {
      "text/html": [
       "<div>\n",
       "<style scoped>\n",
       "    .dataframe tbody tr th:only-of-type {\n",
       "        vertical-align: middle;\n",
       "    }\n",
       "\n",
       "    .dataframe tbody tr th {\n",
       "        vertical-align: top;\n",
       "    }\n",
       "\n",
       "    .dataframe thead th {\n",
       "        text-align: right;\n",
       "    }\n",
       "</style>\n",
       "<table border=\"1\" class=\"dataframe\">\n",
       "  <thead>\n",
       "    <tr style=\"text-align: right;\">\n",
       "      <th></th>\n",
       "      <th>RM</th>\n",
       "      <th>AGE</th>\n",
       "      <th>DIS</th>\n",
       "      <th>RAD</th>\n",
       "      <th>LSTAT</th>\n",
       "    </tr>\n",
       "  </thead>\n",
       "  <tbody>\n",
       "    <tr>\n",
       "      <th>0</th>\n",
       "      <td>0.771758</td>\n",
       "      <td>0.064729</td>\n",
       "      <td>-0.285089</td>\n",
       "      <td>-0.299841</td>\n",
       "      <td>-0.691327</td>\n",
       "    </tr>\n",
       "    <tr>\n",
       "      <th>1</th>\n",
       "      <td>0.552431</td>\n",
       "      <td>-0.430291</td>\n",
       "      <td>0.933650</td>\n",
       "      <td>-0.528400</td>\n",
       "      <td>-0.740519</td>\n",
       "    </tr>\n",
       "    <tr>\n",
       "      <th>2</th>\n",
       "      <td>-0.402288</td>\n",
       "      <td>0.606046</td>\n",
       "      <td>0.913237</td>\n",
       "      <td>-0.756958</td>\n",
       "      <td>0.892644</td>\n",
       "    </tr>\n",
       "    <tr>\n",
       "      <th>3</th>\n",
       "      <td>-0.620182</td>\n",
       "      <td>-1.676745</td>\n",
       "      <td>1.299788</td>\n",
       "      <td>-0.642679</td>\n",
       "      <td>-0.611215</td>\n",
       "    </tr>\n",
       "    <tr>\n",
       "      <th>4</th>\n",
       "      <td>-1.359874</td>\n",
       "      <td>0.987105</td>\n",
       "      <td>-0.800952</td>\n",
       "      <td>1.642904</td>\n",
       "      <td>-0.317471</td>\n",
       "    </tr>\n",
       "    <tr>\n",
       "      <th>...</th>\n",
       "      <td>...</td>\n",
       "      <td>...</td>\n",
       "      <td>...</td>\n",
       "      <td>...</td>\n",
       "      <td>...</td>\n",
       "    </tr>\n",
       "    <tr>\n",
       "      <th>399</th>\n",
       "      <td>0.533795</td>\n",
       "      <td>1.008473</td>\n",
       "      <td>-1.158007</td>\n",
       "      <td>1.642904</td>\n",
       "      <td>-1.225408</td>\n",
       "    </tr>\n",
       "    <tr>\n",
       "      <th>400</th>\n",
       "      <td>0.093707</td>\n",
       "      <td>-0.505078</td>\n",
       "      <td>0.363958</td>\n",
       "      <td>-0.528400</td>\n",
       "      <td>-0.784088</td>\n",
       "    </tr>\n",
       "    <tr>\n",
       "      <th>401</th>\n",
       "      <td>0.361774</td>\n",
       "      <td>0.965737</td>\n",
       "      <td>-0.445570</td>\n",
       "      <td>-0.756958</td>\n",
       "      <td>-0.951340</td>\n",
       "    </tr>\n",
       "    <tr>\n",
       "      <th>402</th>\n",
       "      <td>-1.299667</td>\n",
       "      <td>1.122434</td>\n",
       "      <td>-1.045713</td>\n",
       "      <td>-0.528400</td>\n",
       "      <td>0.116821</td>\n",
       "    </tr>\n",
       "    <tr>\n",
       "      <th>403</th>\n",
       "      <td>-0.013806</td>\n",
       "      <td>0.541943</td>\n",
       "      <td>-0.476118</td>\n",
       "      <td>1.642904</td>\n",
       "      <td>0.531437</td>\n",
       "    </tr>\n",
       "  </tbody>\n",
       "</table>\n",
       "<p>404 rows × 5 columns</p>\n",
       "</div>"
      ],
      "text/plain": [
       "           RM       AGE       DIS       RAD     LSTAT\n",
       "0    0.771758  0.064729 -0.285089 -0.299841 -0.691327\n",
       "1    0.552431 -0.430291  0.933650 -0.528400 -0.740519\n",
       "2   -0.402288  0.606046  0.913237 -0.756958  0.892644\n",
       "3   -0.620182 -1.676745  1.299788 -0.642679 -0.611215\n",
       "4   -1.359874  0.987105 -0.800952  1.642904 -0.317471\n",
       "..        ...       ...       ...       ...       ...\n",
       "399  0.533795  1.008473 -1.158007  1.642904 -1.225408\n",
       "400  0.093707 -0.505078  0.363958 -0.528400 -0.784088\n",
       "401  0.361774  0.965737 -0.445570 -0.756958 -0.951340\n",
       "402 -1.299667  1.122434 -1.045713 -0.528400  0.116821\n",
       "403 -0.013806  0.541943 -0.476118  1.642904  0.531437\n",
       "\n",
       "[404 rows x 5 columns]"
      ]
     },
     "execution_count": 10,
     "metadata": {},
     "output_type": "execute_result"
    }
   ],
   "source": [
    "# ATRIBUTOS UTILIZADOS: RM, AGE, DIS, TAX, LSTAT -> 5, 6, 7, 8, 12 \n",
    "RANDOM_train = np.append(train_data[:, 5:9], train_data[:, 12].reshape(train_data.shape[0], 1), axis=1)\n",
    "RANDOM_test  = np.append(test_data[:, 5:9], test_data[:, 12].reshape(test_data.shape[0], 1), axis=1)\n",
    "\n",
    "RANDOMatrib = ['RM', 'AGE', 'DIS', 'RAD', 'LSTAT']\n",
    "RANDOMdataframe = pd.DataFrame(RANDOM_train, columns=RANDOMatrib)\n",
    "\n",
    "RANDOMdataframe"
   ]
  },
  {
   "cell_type": "markdown",
   "metadata": {},
   "source": [
    "### Neural Network"
   ]
  },
  {
   "cell_type": "code",
   "execution_count": null,
   "metadata": {},
   "outputs": [
    {
     "name": "stdout",
     "output_type": "stream",
     "text": [
      "\n",
      "....................................................................................................\n",
      "....................................................................................................\n",
      "....................................................................................................\n",
      "....................................................................................................\n",
      "....................................................................................................\n",
      "...................................................................................................."
     ]
    }
   ],
   "source": [
    "model_RANDOM = build_model(RANDOM_train.shape[1])\n",
    "RANDOMhistory = model_RANDOM.fit(RANDOM_train, train_labels, epochs=600, batch_size=32, validation_split=0.2, verbose=0, callbacks=[PrintDot()])"
   ]
  },
  {
   "cell_type": "code",
   "execution_count": null,
   "metadata": {},
   "outputs": [
    {
     "name": "stdout",
     "output_type": "stream",
     "text": [
      "O erro médio absoluto em relação aos preços originais da casa é: $2624.41\n"
     ]
    },
    {
     "data": {
      "image/png": "[encoded data removed]",
      "text/plain": [
       "<Figure size 432x288 with 1 Axes>"
      ]
     },
     "metadata": {
      "needs_background": "light"
     },
     "output_type": "display_data"
    },
    {
     "data": {
      "image/png": "[encoded data removed]",
      "text/plain": [
       "<Figure size 360x360 with 1 Axes>"
      ]
     },
     "metadata": {
      "needs_background": "light"
     },
     "output_type": "display_data"
    }
   ],
   "source": [
    "mae = model_RANDOM.evaluate(RANDOM_test, test_labels, verbose=0)[1]\n",
    "print(\"O erro médio absoluto em relação aos preços originais da casa é: ${:5.2f}\".format(mae * 1000))\n",
    "\n",
    "plot_history(RANDOMhistory)\n",
    "\n",
    "predictions = model_RANDOM.predict(RANDOM_test).flatten()\n",
    "plot_predictions(test_labels, predictions)\n",
    "\n",
    "keras.backend.clear_session()\n"
   ]
  }
 ],
 "metadata": {
  "interpreter": {
   "hash": "21c4bb3b271cdc712da94708afa9df2938311afcda944364ee0384b6a9c3a282"
  },
  "kernelspec": {
   "display_name": "Python 3.7 (tensorflow)",
   "language": "python",
   "name": "python3"
  },
  "language_info": {
   "codemirror_mode": {
    "name": "ipython",
    "version": 3
   },
   "file_extension": ".py",
   "mimetype": "text/x-python",
   "name": "python",
   "nbconvert_exporter": "python",
   "pygments_lexer": "ipython3",
   "version": "3.7.11"
  }
 },
 "nbformat": 4,
 "nbformat_minor": 2
}
